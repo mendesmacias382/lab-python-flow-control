{
  "cells": [
    {
      "cell_type": "markdown",
      "id": "d3bfc191-8885-42ee-b0a0-bbab867c6f9f",
      "metadata": {
        "tags": [],
        "id": "d3bfc191-8885-42ee-b0a0-bbab867c6f9f"
      },
      "source": [
        "# Lab | Flow Control"
      ]
    },
    {
      "cell_type": "markdown",
      "id": "3851fcd1-cf98-4653-9c89-e003b7ec9400",
      "metadata": {
        "id": "3851fcd1-cf98-4653-9c89-e003b7ec9400"
      },
      "source": [
        "## Exercise: Managing Customer Orders Optimized\n",
        "\n",
        "In the last lab, you were starting an online store that sells various products. To ensure smooth operations, you developed a program that manages customer orders and inventory.\n",
        "\n",
        "You did so without using flow control. Let's go a step further and improve this code.\n",
        "\n",
        "Follow the steps below to complete the exercise:\n",
        "\n",
        "1. Look at your code from the lab data structures, and improve repeated code with loops.\n",
        "\n",
        "2. Instead of asking the user to input the name of three products that a customer wants to order, do the following:\n",
        "    \n",
        "    a. Prompt the user to enter the name of a product that a customer wants to order.\n",
        "    \n",
        "    b. Add the product name to the \"customer_orders\" set.\n",
        "    \n",
        "    c. Ask the user if they want to add another product (yes/no).\n",
        "    \n",
        "    d. Continue the loop until the user does not want to add another product.\n",
        "\n",
        "3. Instead of updating the inventory by subtracting 1 from the quantity of each product, only do it for  the products that were ordered (those in \"customer_orders\")."
      ]
    },
    {
      "cell_type": "code",
      "execution_count": 1,
      "id": "1d7e5f83",
      "metadata": {
        "colab": {
          "base_uri": "https://localhost:8080/"
        },
        "id": "1d7e5f83",
        "outputId": "308679d5-2b21-45c9-cac1-4c204914be3a"
      },
      "outputs": [
        {
          "output_type": "stream",
          "name": "stdout",
          "text": [
            "Please input the number of products t-shirt: 10\n",
            "Please input the number of products mug: 10\n",
            "Please input the number of products hat: 10\n",
            "Please input the number of products book: 10\n",
            "Please input the number of products keychain: 10\n",
            "{'t-shirt': 10, 'mug': 10, 'hat': 10, 'book': 10, 'keychain': 10}\n"
          ]
        }
      ],
      "source": [
        "#Look at your code from the lab data structures, and improve repeated code with loops.\n",
        "\n",
        "products = ['t-shirt', 'mug', 'hat', 'book', 'keychain']\n",
        "\n",
        "inventory = {}\n",
        "\n",
        "for product in products:\n",
        "    quantity = int(input(f'Please input the number of products {product}: '))\n",
        "    inventory[product] = quantity\n",
        "\n",
        "\n",
        "print(inventory)\n",
        "\n",
        "\n"
      ]
    },
    {
      "cell_type": "code",
      "source": [
        "products = ['t-shirt', 'mug', 'hat', 'book', 'keychain']\n",
        "\n",
        "customer_orders = set()\n",
        "\n",
        "while True:\n",
        "\n",
        "\n",
        "    product_name = input('Please enter the name of the product')\n",
        "\n",
        "    if product_name.lower() in products:\n",
        "\n",
        "      customer_orders.add(product_name.lower())\n",
        "\n",
        "    else:\n",
        "        print( 'Invalid name of product, please insert the correct name')\n",
        "\n",
        "    another_product = input('Do you want to order a new product? (Yes or No) :')\n",
        "    if another_product.lower() != 'yes' :\n",
        "      break\n",
        "\n",
        "\n",
        "print('Costumer orders are', customer_orders)\n",
        "\n",
        "for product in customer_orders:\n",
        "    if product in inventory:\n",
        "        inventory[product] -= 1\n",
        "\n",
        "\n",
        "print(inventory)"
      ],
      "metadata": {
        "colab": {
          "base_uri": "https://localhost:8080/"
        },
        "id": "0Iy0HWjNC9Xw",
        "outputId": "8db6e2de-472f-4b2b-9458-b1023e3d81e6"
      },
      "id": "0Iy0HWjNC9Xw",
      "execution_count": 2,
      "outputs": [
        {
          "output_type": "stream",
          "name": "stdout",
          "text": [
            "Please enter the name of the productmug\n",
            "Do you want to order a new product? (Yes or No) :yes\n",
            "Please enter the name of the producthat\n",
            "Do you want to order a new product? (Yes or No) :no\n",
            "Costumer orders are {'hat', 'mug'}\n",
            "{'t-shirt': 10, 'mug': 9, 'hat': 9, 'book': 10, 'keychain': 10}\n"
          ]
        }
      ]
    },
    {
      "cell_type": "code",
      "source": [
        "total_inventory = 0\n",
        "\n",
        "for value in inventory.values():\n",
        "  total_inventory += value\n",
        "\n",
        "\n",
        "print('Total inventory is', total_inventory)"
      ],
      "metadata": {
        "colab": {
          "base_uri": "https://localhost:8080/"
        },
        "id": "mJ1AgJMnDsUD",
        "outputId": "be598b6c-1dad-472f-a49c-fa504875d565"
      },
      "id": "mJ1AgJMnDsUD",
      "execution_count": 3,
      "outputs": [
        {
          "output_type": "stream",
          "name": "stdout",
          "text": [
            "Total inventory is 48\n"
          ]
        }
      ]
    },
    {
      "cell_type": "code",
      "source": [
        "products = ['t-shirt', 'mug', 'hat', 'book', 'keychain']\n",
        "\n",
        "inventory = {}\n",
        "\n",
        "for product in products:\n",
        "    quantity = int(input(f'Please input the number of products {product}: '))\n",
        "    inventory[product] = quantity\n",
        "\n",
        "\n",
        "print(inventory)"
      ],
      "metadata": {
        "colab": {
          "base_uri": "https://localhost:8080/"
        },
        "id": "D-liscfdDvSB",
        "outputId": "3e1a9108-d3df-4471-fdc5-f2b1c6caeab1"
      },
      "id": "D-liscfdDvSB",
      "execution_count": 4,
      "outputs": [
        {
          "output_type": "stream",
          "name": "stdout",
          "text": [
            "Please input the number of products t-shirt: 10\n",
            "Please input the number of products mug: 10\n",
            "Please input the number of products hat: 10\n",
            "Please input the number of products book: 10\n",
            "Please input the number of products keychain: 10\n",
            "{'t-shirt': 10, 'mug': 10, 'hat': 10, 'book': 10, 'keychain': 10}\n"
          ]
        }
      ]
    },
    {
      "cell_type": "code",
      "source": [
        "products = ['t-shirt', 'mug', 'hat', 'book', 'keychain']\n",
        "\n",
        "customer_orders = set()\n",
        "\n",
        "while True:\n",
        "\n",
        "\n",
        "    product_name = input('Please enter the name of the product')\n",
        "\n",
        "    if product_name.lower() in products:\n",
        "\n",
        "      customer_orders.add(product_name.lower())\n",
        "\n",
        "    else:\n",
        "        print( 'Invalid name of product, please insert the correct name')\n",
        "\n",
        "    another_product = input('Do you want to order a new product? (Yes or No) :')\n",
        "    if another_product.lower() != 'yes' :\n",
        "      break\n",
        "\n",
        "\n",
        "print('Costumer orders are', customer_orders)\n"
      ],
      "metadata": {
        "colab": {
          "base_uri": "https://localhost:8080/"
        },
        "id": "F-2rH2XSD3vs",
        "outputId": "b9312372-1988-4cd9-ad88-178abba77dc2"
      },
      "id": "F-2rH2XSD3vs",
      "execution_count": 5,
      "outputs": [
        {
          "output_type": "stream",
          "name": "stdout",
          "text": [
            "Please enter the name of the productmug\n",
            "Do you want to order a new product? (Yes or No) :yes\n",
            "Please enter the name of the productbook\n",
            "Do you want to order a new product? (Yes or No) :no\n",
            "Costumer orders are {'book', 'mug'}\n"
          ]
        }
      ]
    },
    {
      "cell_type": "code",
      "source": [
        "for product in customer_orders:\n",
        "    if product in inventory:\n",
        "        inventory[product] -= 1\n",
        "\n",
        "print(inventory)"
      ],
      "metadata": {
        "id": "HCNG3Mk7EDQq",
        "outputId": "8597bbc2-1bb0-4b55-dbd2-227825f87e16",
        "colab": {
          "base_uri": "https://localhost:8080/"
        }
      },
      "id": "HCNG3Mk7EDQq",
      "execution_count": 6,
      "outputs": [
        {
          "output_type": "stream",
          "name": "stdout",
          "text": [
            "{'t-shirt': 10, 'mug': 9, 'hat': 10, 'book': 9, 'keychain': 10}\n"
          ]
        }
      ]
    }
  ],
  "metadata": {
    "kernelspec": {
      "display_name": "Python 3 (ipykernel)",
      "language": "python",
      "name": "python3"
    },
    "language_info": {
      "codemirror_mode": {
        "name": "ipython",
        "version": 3
      },
      "file_extension": ".py",
      "mimetype": "text/x-python",
      "name": "python",
      "nbconvert_exporter": "python",
      "pygments_lexer": "ipython3",
      "version": "3.11.4"
    },
    "colab": {
      "provenance": []
    }
  },
  "nbformat": 4,
  "nbformat_minor": 5
}